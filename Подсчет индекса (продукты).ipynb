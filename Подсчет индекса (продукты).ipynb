{
 "cells": [
  {
   "cell_type": "code",
   "execution_count": 2,
   "id": "5684c384",
   "metadata": {},
   "outputs": [],
   "source": [
    "import matplotlib.pyplot as plt\n",
    "import pandas as pd\n",
    "import random as rnd\n",
    "from tqdm import tqdm_notebook\n",
    "import numpy as np\n",
    "import matplotlib.pyplot as plt\n",
    "import seaborn as sns\n",
    "import pyreadstat as ps\n",
    "from sklearn import datasets\n",
    "import statistics as st\n",
    "from numpy import nanmedian, NaN\n",
    "from scipy import stats"
   ]
  },
  {
   "cell_type": "markdown",
   "id": "c2fdc633",
   "metadata": {},
   "source": [
    "# Определение стоимостей конечных продуктов"
   ]
  },
  {
   "cell_type": "code",
   "execution_count": 3,
   "id": "3cba2ebd",
   "metadata": {},
   "outputs": [
    {
     "name": "stdout",
     "output_type": "stream",
     "text": [
      "              Unnamed: 0       1       2       3       4       5       6  \\\n",
      "0               Петрушка  200.00  204.33  185.83  200.00  179.00  179.50   \n",
      "1  Капуста белокочанная    15.50   17.20   18.00   19.40   21.20   18.71   \n",
      "2             Картофель    19.72   23.60   24.97   26.29   28.25   29.71   \n",
      "3           Лук репчатый   16.94   19.42   20.25   21.00   22.50   21.71   \n",
      "4               Морковь    20.69   23.97   24.40   26.50   29.80   48.70   \n",
      "5               Свёкла     19.70   22.20   25.69   28.16   28.37   46.00   \n",
      "6      Говядина на кости  294.15  292.13  292.48  299.98  306.50  303.58   \n",
      "\n",
      "        7       8       9      10      11      12  \n",
      "0  212.50  210.00  180.00  189.38  202.50  170.33  \n",
      "1   20.40   22.50   24.33   25.88   30.67   33.14  \n",
      "2   19.63   21.00   23.31   26.75   33.17   35.71  \n",
      "3   17.25   17.75   18.67   18.60   19.00   19.92  \n",
      "4   33.83   23.25   24.25   25.25   28.33   28.50  \n",
      "5   36.40   26.50   20.40   24.50   24.93   28.89  \n",
      "6  304.98  302.98  297.98  296.98  296.98  308.98  \n",
      "\n",
      " 1529.8425\n"
     ]
    }
   ],
   "source": [
    "Ps = []\n",
    "\n",
    "df1 = pd.read_excel(\"C:\\Data\\Борщ_Краснодар2021.xlsx\")\n",
    "print(df1)\n",
    "\n",
    "# на месяц борща нужно: 2*30=60 на человека, 16 порции состоит из 1 кг говядины, 1 кг картофеля, 1 кг капусты, 0,6 кг свеклы, 0,6 кг моркови, 0,5 кг лука, 0,2 кг петрушки\n",
    "# на 60 порций (1 месяц) получим: 3,75 кг говядины, 3,75 кг картошки, 3,75 кг капусты, 2,25 кг свеклы, 2,25 кг моркови, 1,875 кг лука, 0,75 кг петрушки\n",
    "\n",
    "# стоимость супа (борща) в первом квартале:\n",
    "cost_soup = 0.75*df1[rnd.randint(1, 3)][0] + 3.75*df1[rnd.randint(1, 3)][1] + 3.75*df1[rnd.randint(1, 3)][2] + 1.875*df1[rnd.randint(1, 3)][3] + 2.25*df1[rnd.randint(1, 3)][4] + 2.25*df1[rnd.randint(1, 3)][5] + 3.75*df1[rnd.randint(1, 3)][6]\n",
    "Ps.append(cost_soup)\n",
    "print(\"\\n\", cost_soup)"
   ]
  },
  {
   "cell_type": "code",
   "execution_count": 4,
   "id": "f16030fe",
   "metadata": {},
   "outputs": [
    {
     "name": "stdout",
     "output_type": "stream",
     "text": [
      "           Unnamed: 0       1       2       3\n",
      "0             Тилапия  307.26  335.86  336.46\n",
      "1            Капуста    15.50   17.20   18.00\n",
      "2                 Рис   47.45   46.70   46.57\n",
      "3                Лук    16.94   19.42   20.25\n",
      "4        Сок томатный   41.48   42.39   42.36\n",
      "5       Лавровый лист   14.47   14.04   14.04\n",
      "6  Масло растительное   90.81   91.95   93.42\n",
      "\n",
      " 6118.6709999999985\n"
     ]
    }
   ],
   "source": [
    "df2 = pd.read_excel(\"C:\\Data\\Ленивые голубцы_Краснодар2021.xlsx\")\n",
    "print(df2)\n",
    "\n",
    "# на месяц голубцов нужно: 2*30=60, 2 порции состоят из 0,4 кг тилапии, 0,25 кг капусты, 0,07 кг риса, 0,07 кг лука, 0,2 л томатного сока, 0 кг лаврового листа, 0,3 л подсолнечного масла \n",
    "# на 60 порций (1 месяц) получим: 15 кг тилапии, 7.5 кг капусты, 2.1 кг риса, 2.1 кг лука, 6 л томатного сока, 0 кг лаврового листа, 6 л подсолнечного масла,\n",
    "\n",
    "# стоимость основного (голубцов) в первом квартале\n",
    "cost_main = 15*df2[rnd.randint(1, 3)][0] + 7.5*df2[rnd.randint(1, 3)][1] + 2.1*df2[rnd.randint(1, 3)][2] + 2.1*df2[rnd.randint(1, 3)][3] + 6*df2[rnd.randint(1, 3)][4] + 0*df2[rnd.randint(1, 3)][5] + 6*df2[rnd.randint(1, 3)][6]\n",
    "Ps.append(cost_main)\n",
    "print(\"\\n\", cost_main)"
   ]
  },
  {
   "cell_type": "code",
   "execution_count": 5,
   "id": "476ae543",
   "metadata": {},
   "outputs": [
    {
     "name": "stdout",
     "output_type": "stream",
     "text": [
      "                   Unnamed: 0       1       2       3\n",
      "0                Филе куриное  224.50  230.50  237.25\n",
      "1     Салат айсберг (Капуста)   15.50   17.20   18.00\n",
      "2                       Батон   91.14   91.14   91.14\n",
      "3   Сыр пармезан (адыгейский)  333.43  337.39  336.62\n",
      "4   Помидоры черри (помидоры)   98.25   93.75   91.67\n",
      "5  Яйца перепелиные (куриные)   67.43   72.29   75.83\n",
      "6          Масло растительное   90.81   91.95   93.42\n",
      "7                      Чеснок  149.29  157.57  160.63\n",
      "8                  Сок лимона   13.61   13.99   14.19\n",
      "\n",
      " 13610.720099999999\n"
     ]
    }
   ],
   "source": [
    "df3 = pd.read_excel(\"C:\\Data\\Цезарь_Краснодар2021.xlsx\")\n",
    "print(df3)\n",
    "\n",
    "# на месяц Цезаря c курицей нужно: 2*30=60, 2 порции состоят из 0,8 кг курицы, 0,6 кг салата айсберг, 0,32 кг батона, 0,08 кг сыра пармезан, 0,15 кг помидоров черри, 6 куриных яиц, 0,105 л подсолнечного масла, 0,15 кг чеснока, 0,05 л = 0,01 кг лимнной кислоты\n",
    "# на 60 порций получим: 24 кг курицы, 18 кг салата айсберг, 9.6 кг батона, 0.24 кг сыра пармезан, 4.5 кг помидоров черри, 180 = 18 десятков куриных яиц, 30.15 л подсолнечного масла, 1.5 кг чеснока, 0.3 кг = 6 пачек лимонной кислоты\n",
    "\n",
    "# стоимость салата (Цезарь с курицей) в первом квартале\n",
    "cost_salat = 24*df3[rnd.randint(1, 3)][0] + 18*df3[rnd.randint(1, 3)][1] + 9.6*df3[rnd.randint(1, 3)][2] + 0.24*df3[rnd.randint(1, 3)][3] + 4.5*df3[rnd.randint(1, 3)][4] + 18*df3[rnd.randint(1, 3)][5] + 30.15*df3[rnd.randint(1, 3)][6] + 1.5*df3[rnd.randint(1, 3)][7] + 6*df3[rnd.randint(1, 3)][8] + 6*df2[rnd.randint(1, 3)][0]\n",
    "Ps.append(cost_salat)\n",
    "print(\"\\n\", cost_salat)"
   ]
  },
  {
   "cell_type": "code",
   "execution_count": 6,
   "id": "fddddf3f",
   "metadata": {},
   "outputs": [
    {
     "name": "stdout",
     "output_type": "stream",
     "text": [
      "         Unnamed: 0       1       2       3\n",
      "0   Масло сливочное  323.11  330.70  330.71\n",
      "1  Крекеры (печень)  118.90  116.02  115.90\n",
      "2             Сахар   43.48   39.15   40.98\n",
      "3              Соль   12.36   12.61   12.54\n",
      "4     Сливочный сыр  422.00  404.32  406.73\n",
      "5             Лимон   87.17   88.33   87.67\n",
      "6      Яйца куриные   67.43   72.29   75.83\n",
      "7           Сметана   85.34   85.35   83.79\n",
      "\n",
      " 15333.336650000001\n"
     ]
    }
   ],
   "source": [
    "df4 = pd.read_excel(\"C:\\Data\\Чизкейк_Краснодар2021.xlsx\")\n",
    "print(df4)\n",
    "\n",
    "# на месяц чизкейка нужно: 1*30, 1 поция состоит из 0.065 л сливочного масла, 0,2 кг печенья, 0,312 л сахара, 0,0375 л соли, 1 кг сливочного сыра, 1 лимон, 0,4 десятка яиц, 0,25 л сметаны\n",
    "# на 30 порций получим: 1.95 л = 1.775 кг сливочного масла, 6 кг печенья, 9.36 л = 5.43 кг сахара, 0.08 кг соли, 30 кг сливочного сыра, 3 кг лимона, 12 десятков яиц, 7,5 кг \n",
    "\n",
    "# стоимость десерта (чизкейка) в первом квартале\n",
    "cost_desert = 1.775*df4[rnd.randint(1, 3)][0] + 6*df4[rnd.randint(1, 3)][1] + 5.43*df4[rnd.randint(1, 3)][2] + 0.08**df4[rnd.randint(1, 3)][3] + 30*df4[rnd.randint(1, 3)][4] + 3*df4[rnd.randint(1, 3)][5] + 12*df4[rnd.randint(1, 3)][6] + 7.5*df4[rnd.randint(1, 3)][7]\n",
    "Ps.append(cost_desert)\n",
    "print(\"\\n\", cost_desert)"
   ]
  },
  {
   "cell_type": "code",
   "execution_count": 7,
   "id": "3b504155",
   "metadata": {},
   "outputs": [
    {
     "data": {
      "text/plain": [
       "[1529.8425, 6118.6709999999985, 13610.720099999999, 15333.336650000001]"
      ]
     },
     "execution_count": 7,
     "metadata": {},
     "output_type": "execute_result"
    }
   ],
   "source": [
    "Ps"
   ]
  },
  {
   "cell_type": "code",
   "execution_count": 8,
   "id": "02235590",
   "metadata": {},
   "outputs": [],
   "source": [
    "class potrebitel : # задание класса потребителей\n",
    "    'Это класс potrebitel'\n",
    "    \n",
    "    def __init__(self, s, potreb, lvl=-1): # потребитель задается суммой, вектором потребления и уровнем потребления\n",
    "        self.s = s \n",
    "        self.potreb = potreb\n",
    "        self.lvl = lvl\n",
    "\n",
    "    def findlvl (self):\n",
    "        Sum=[]\n",
    "        Su=0\n",
    "        Ps = []\n",
    "        \n",
    "        df1 = pd.read_excel(\"C:\\Data\\Борщ_Краснодар2021.xlsx\")\n",
    "        cost_soup = 0.75*df1[rnd.randint(1, 3)][0] + 3.75*df1[rnd.randint(1, 3)][1] + 3.75*df1[rnd.randint(1, 3)][2] + 1.875*df1[rnd.randint(1, 3)][3] + 2.25*df1[rnd.randint(1, 3)][4] + 2.25*df1[rnd.randint(1, 3)][5] + 3.75*df1[rnd.randint(1, 3)][6]\n",
    "        Ps.append(cost_soup)\n",
    "        \n",
    "        df2 = pd.read_excel(\"C:\\Data\\Ленивые голубцы_Краснодар2021.xlsx\")\n",
    "        cost_main = 15*df2[rnd.randint(1, 3)][0] + 7.5*df2[rnd.randint(1, 3)][1] + 2.1*df2[rnd.randint(1, 3)][2] + 2.1*df2[rnd.randint(1, 3)][3] + 6*df2[rnd.randint(1, 3)][4] + 0*df2[rnd.randint(1, 3)][5] + 6*df2[rnd.randint(1, 3)][6]\n",
    "        Ps.append(cost_main)\n",
    "        \n",
    "        df3 = pd.read_excel(\"C:\\Data\\Цезарь_Краснодар2021.xlsx\")\n",
    "        cost_salat = 24*df3[rnd.randint(1, 3)][0] + 18*df3[rnd.randint(1, 3)][1] + 9.6*df3[rnd.randint(1, 3)][2] + 0.24*df3[rnd.randint(1, 3)][3] + 4.5*df3[rnd.randint(1, 3)][4] + 18*df3[rnd.randint(1, 3)][5] + 30.15*df3[rnd.randint(1, 3)][6] + 1.5*df3[rnd.randint(1, 3)][7] + 6*df3[rnd.randint(1, 3)][8] + 6*df2[rnd.randint(1, 3)][0]\n",
    "        Ps.append(cost_salat)\n",
    "        \n",
    "        df4 = pd.read_excel(\"C:\\Data\\Чизкейк_Краснодар2021.xlsx\")\n",
    "        cost_desert = 1.775*df4[rnd.randint(1, 3)][0] + 6*df4[rnd.randint(1, 3)][1] + 5.43*df4[rnd.randint(1, 3)][2] + 0.08**df4[rnd.randint(1, 3)][3] + 30*df4[rnd.randint(1, 3)][4] + 3*df4[rnd.randint(1, 3)][5] + 12*df4[rnd.randint(1, 3)][6] + 7.5*df4[rnd.randint(1, 3)][7]\n",
    "        Ps.append(cost_desert)\n",
    "    \n",
    "        for j in range (len(Ps)):\n",
    "            Ps[j]=Ps[j]*(self.potreb[j]>0)*self.potreb[j]\n",
    "        for i in range (len(Ps)-1):\n",
    "            Sum.append(sum(Ps[0: i+1]))\n",
    "        \n",
    "        Sum[2]+=Ps[3]*(self.potreb[3]>0)*self.potreb[3]\n",
    "                \n",
    "        self.sum = []\n",
    "        for i in range (len(Ps)-1):\n",
    "            self.sum.append(Sum[i])\n",
    "        \n",
    "        if (self.s < Sum[0]):  \n",
    "            self.lvl = 0\n",
    "            return 0\n",
    "            \n",
    "        if ((self.s >= Sum[0]) and (self.s < Sum[1])):\n",
    "            self.lvl = 1\n",
    "            return 1\n",
    "            \n",
    "        if ((self.s >= Sum[1]) and (self.s < Sum[2])):\n",
    "            self.lvl = 2\n",
    "            return 2\n",
    "        \n",
    "        if (self.s >= Sum[2]):\n",
    "            self.lvl = 3\n",
    "            return 3\n",
    "                "
   ]
  },
  {
   "cell_type": "markdown",
   "id": "8da8feef",
   "metadata": {},
   "source": [
    "# Доходы, потраченные на продукты"
   ]
  },
  {
   "cell_type": "code",
   "execution_count": 9,
   "id": "ed9ea09b",
   "metadata": {},
   "outputs": [
    {
     "name": "stdout",
     "output_type": "stream",
     "text": [
      "0      39032.50\n",
      "1      46364.50\n",
      "2      17966.00\n",
      "3      21286.85\n",
      "4      35340.50\n",
      "         ...   \n",
      "903    45051.50\n",
      "904    34780.07\n",
      "905    31568.81\n",
      "906    27734.46\n",
      "907    31408.00\n",
      "Name: prod, Length: 908, dtype: float64\n"
     ]
    }
   ],
   "source": [
    "DF = pd.read_excel(\"C:\\Data\\Doxod3_41.xlsx\")\n",
    "#print(DF)\n",
    "\n",
    "D = DF['prod']\n",
    "print(D)"
   ]
  },
  {
   "cell_type": "markdown",
   "id": "4c94ce6d",
   "metadata": {},
   "source": [
    "# Стратификация благ"
   ]
  },
  {
   "cell_type": "code",
   "execution_count": 10,
   "id": "422900e7",
   "metadata": {},
   "outputs": [
    {
     "name": "stderr",
     "output_type": "stream",
     "text": [
      "C:\\Users\\vyand\\AppData\\Local\\Temp/ipykernel_4956/2572821146.py:3: TqdmDeprecationWarning: This function will be removed in tqdm==5.0.0\n",
      "Please use `tqdm.notebook.tqdm` instead of `tqdm.tqdm_notebook`\n",
      "  for i in tqdm_notebook(range(len(D))):\n"
     ]
    },
    {
     "data": {
      "application/vnd.jupyter.widget-view+json": {
       "model_id": "246610f9fd8e4b1c9c9ce4a1a320fe9c",
       "version_major": 2,
       "version_minor": 0
      },
      "text/plain": [
       "  0%|          | 0/908 [00:00<?, ?it/s]"
      ]
     },
     "metadata": {},
     "output_type": "display_data"
    },
    {
     "name": "stdout",
     "output_type": "stream",
     "text": [
      "Maximum value = 3 \n",
      "Minimum value = 0 \n",
      "Mean = 1.802863436123348 \n",
      "Median = 2.0 \n",
      "Variance = 0.3917539152710125 \n",
      "\n",
      "\n",
      "На 0 уровне (уровнь нехватки): 5 \n",
      "На 1 уровне (уровень бедности): 270 \n",
      "На 2 уровне (уровень достаточности): 532 \n",
      "На 3 уровне (уровень избыточности): 101 \n",
      "\n"
     ]
    },
    {
     "data": {
      "image/png": "[encoded data removed]",
      "text/plain": [
       "<Figure size 1080x288 with 1 Axes>"
      ]
     },
     "metadata": {
      "needs_background": "light"
     },
     "output_type": "display_data"
    }
   ],
   "source": [
    "p=[]\n",
    "\n",
    "for i in tqdm_notebook(range(len(D))):\n",
    "    potreb = [rnd.randint(2, 6), rnd.randint(1, 5), rnd.randint(0, 4), rnd.randint(0, 3)]\n",
    "    s = D[i]\n",
    "    p1 = potrebitel(s, potreb)\n",
    "    p1.findlvl()\n",
    "    p.append(p1)\n",
    "    \n",
    "pp = []\n",
    "count = [0, 0, 0, 0]\n",
    "\n",
    "for i in range (len(p)):\n",
    "    pp.append(p[i].lvl)\n",
    "    if (p[i].lvl == 0):\n",
    "        count[0] += 1\n",
    "    if (p[i].lvl == 1):\n",
    "        count[1] += 1\n",
    "    if (p[i].lvl == 2):\n",
    "        count[2] += 1\n",
    "    if (p[i].lvl == 3):\n",
    "        count[3] += 1\n",
    "        \n",
    "print(\"Maximum value =\", max(pp), \"\\nMinimum value =\", min(pp), \"\\nMean =\", np.mean(pp), \"\\nMedian =\", nanmedian(pp), \"\\nVariance =\", np.var(pp), \"\\n\\n\")\n",
    "print(\"На 0 уровне (уровнь нехватки):\", count[0], \"\\nНа 1 уровне (уровень бедности):\", count[1], \"\\nНа 2 уровне (уровень достаточности):\", count[2], \"\\nНа 3 уровне (уровень избыточности):\", count[3], '\\n')\n",
    "\n",
    "\n",
    "index = [0,1,2,3]\n",
    "fig, ax1 = plt.subplots(figsize=(15, 4))\n",
    "ax1.bar(index, count)\n",
    "plt.show()"
   ]
  },
  {
   "cell_type": "code",
   "execution_count": 11,
   "id": "0e96408d",
   "metadata": {},
   "outputs": [
    {
     "data": {
      "text/plain": [
       "[435, 599, 763, 765, 860]"
      ]
     },
     "execution_count": 11,
     "metadata": {},
     "output_type": "execute_result"
    }
   ],
   "source": [
    "I0 = []\n",
    "\n",
    "for i in range(len(D)):\n",
    "    if (p[i].lvl == 0):\n",
    "        I0.append(i)\n",
    "\n",
    "I0"
   ]
  },
  {
   "cell_type": "code",
   "execution_count": 12,
   "id": "232d48c8",
   "metadata": {},
   "outputs": [
    {
     "name": "stdout",
     "output_type": "stream",
     "text": [
      "Сводка по 697 потребителю \n",
      "Уровень: 2 \n",
      "Располагаемый на продукты доход: 55152.5 \n",
      "Вектор потребления [5, 5, 3, 0] \n",
      "Граничные уровневые суммы: [7570.7625, 35923.222499999996, 76722.9198]\n"
     ]
    }
   ],
   "source": [
    "r = rnd.randint(1, len(D))\n",
    "print(F\"Сводка по {r} потребителю\",\"\\nУровень:\", p[r].lvl, \"\\nРасполагаемый на продукты доход:\", D[r], \"\\nВектор потребления\", p[r].potreb, \"\\nГраничные уровневые суммы:\", p[r].sum)"
   ]
  },
  {
   "cell_type": "markdown",
   "id": "8a7f4f96",
   "metadata": {},
   "source": [
    "# Индекс по персональному уровню"
   ]
  },
  {
   "cell_type": "code",
   "execution_count": 53,
   "id": "0a78114e",
   "metadata": {},
   "outputs": [
    {
     "name": "stdout",
     "output_type": "stream",
     "text": [
      "Maximum value = 9.322845051672116 \n",
      "Minimum value = 0.026615228780005835 \n",
      "Mean = 2.4849614236012196 \n",
      "Median = 2.0106289092197023 \n",
      "Variance = 2.299475853643794 \n",
      "\n",
      "\n",
      "stat. = 297.63599209077955 p-value = 2.339728739181341e-65\n"
     ]
    },
    {
     "data": {
      "image/png": "[encoded data removed]",
      "text/plain": [
       "<Figure size 1080x288 with 2 Axes>"
      ]
     },
     "metadata": {
      "needs_background": "light"
     },
     "output_type": "display_data"
    },
    {
     "name": "stdout",
     "output_type": "stream",
     "text": [
      "Число потребителей ненулевого уровня, чей IwPl не больше 1.6: 326\n",
      "Число потребителей, чей IwPl меньше 1: 5\n"
     ]
    }
   ],
   "source": [
    "IwPl = []\n",
    "\n",
    "for i in range(len(D)):\n",
    "    IwPl.append(D[i]/p[i].sum[p[i].lvl-1])\n",
    "\n",
    "for i in range(len(IwPl)):\n",
    "    if (IwPl[i]>100000000000000000):\n",
    "        #print(D[i],p[i].sum[p[i].lvl-1], i)\n",
    "        print (\"Есть бесконечный индекс!\")\n",
    "\n",
    "print(\"Maximum value =\", max(IwPl), \"\\nMinimum value =\", min(IwPl), \"\\nMean =\", np.mean(IwPl), \"\\nMedian =\", nanmedian(IwPl), \"\\nVariance =\", np.var(IwPl), \"\\n\\n\")\n",
    "\n",
    "k, pv = stats.normaltest(IwPl)\n",
    "print(\"stat. =\", k, \"p-value =\", pv)\n",
    "    \n",
    "fig, ax1 = plt.subplots(figsize=(15, 4))\n",
    "ax1.hist(IwPl, 50, color='blue')\n",
    "ax2 = ax1.twinx() # еще одна ненужная строка (ее не удалять!)\n",
    "ax2.plot([1, 1, 1, 1, 1, 1, 1, 1, 1, 1], [1, 2, 3, 4, 5, 6, 7, 8, 9, 10], color=\"r\")\n",
    "plt.show()\n",
    "\n",
    "In1 = []\n",
    "countIn1 = 0\n",
    "ID1 = []\n",
    "for i in range (len(D)):\n",
    "    if ((IwPl[i] < 1.6) and (IwPl[i] > 1)):\n",
    "        In1.append(IwPl)\n",
    "        countIn1 += 1\n",
    "        ID1.append(i)\n",
    "        \n",
    "print(\"Число потребителей ненулевого уровня, чей IwPl не больше 1.6:\", countIn1)\n",
    "\n",
    "In2 = []\n",
    "countIn2 = 0\n",
    "ID2 = []\n",
    "for i in range (len(D)):\n",
    "    if (IwPl[i] < 1):\n",
    "        In2.append(IwPl)\n",
    "        countIn2 += 1\n",
    "        ID2.append(i)\n",
    "        \n",
    "print(\"Число потребителей, чей IwPl меньше 1:\", countIn2)"
   ]
  },
  {
   "cell_type": "code",
   "execution_count": 14,
   "id": "d24778bf",
   "metadata": {},
   "outputs": [
    {
     "name": "stdout",
     "output_type": "stream",
     "text": [
      "Сводка по 86 потребителю \n",
      "Уровень: 3 \n",
      "Располагаемый на продукты доход: 93437.5 \n",
      "Вектор потребления [6, 4, 3, 1] \n",
      "Граничные уровневые суммы: [9275.1975, 31940.8335, 88292.6753] \n",
      "Критическая сумма изменений: 5144.824699999997\n"
     ]
    }
   ],
   "source": [
    "r = rnd.choice(ID1)\n",
    "print(F\"Сводка по {r} потребителю\",\"\\nУровень:\", p[r].lvl, \"\\nРасполагаемый на продукты доход:\", D[r], \"\\nВектор потребления\", p[r].potreb, \"\\nГраничные уровневые суммы:\", p[r].sum, \"\\nКритическая сумма изменений:\", D[r]-p[r].sum[p[r].lvl-1])"
   ]
  },
  {
   "cell_type": "markdown",
   "id": "77ddc12f",
   "metadata": {},
   "source": [
    "# Индекс по уровню достаточности"
   ]
  },
  {
   "cell_type": "code",
   "execution_count": 52,
   "id": "bb15b1a5",
   "metadata": {},
   "outputs": [
    {
     "name": "stdout",
     "output_type": "stream",
     "text": [
      "Maximum value = 8.507425758425184 \n",
      "Minimum value = 0.15554096693533626 \n",
      "Mean = 1.7583458519599207 \n",
      "Median = 1.403132103715432 \n",
      "Variance = 1.5957956826091857 \n",
      "\n",
      "\n",
      "stat. = 352.5443364496361 p-value = 2.792351118374995e-77\n"
     ]
    },
    {
     "data": {
      "image/png": "[encoded data removed]",
      "text/plain": [
       "<Figure size 1080x288 with 2 Axes>"
      ]
     },
     "metadata": {
      "needs_background": "light"
     },
     "output_type": "display_data"
    },
    {
     "name": "stdout",
     "output_type": "stream",
     "text": [
      "Число потребителей, чей IwPl в отрезке [1;1.5]: 216\n"
     ]
    }
   ],
   "source": [
    "IwSl = []\n",
    "\n",
    "for i in range(len(D)):\n",
    "    IwSl.append(D[i]/p[i].sum[1])\n",
    "\n",
    "for i in range(len(IwPl)):\n",
    "    if (IwSl[i]>100000000000000000):\n",
    "        #print(D[i],p[i].sum[p[i].lvl-1], i)\n",
    "        print (\"Есть бесконечный индекс!\")\n",
    "\n",
    "print(\"Maximum value =\", max(IwSl), \"\\nMinimum value =\", min(IwSl), \"\\nMean =\", np.mean(IwSl), \"\\nMedian =\", nanmedian(IwSl), \"\\nVariance =\", np.var(IwSl), \"\\n\\n\")\n",
    "\n",
    "k, pv = stats.normaltest(IwSl)\n",
    "print(\"stat. =\", k, \"p-value =\", pv)\n",
    "    \n",
    "fig, ax1 = plt.subplots(figsize=(15, 4))\n",
    "ax1.hist(IwSl, 50, color='blue')\n",
    "ax2 = ax1.twinx() # еще одна ненужная строка (ее не удалять!)\n",
    "ax2.plot([1, 1, 1, 1, 1, 1, 1, 1, 1, 1], [1, 2, 3, 4, 5, 6, 7, 8, 9, 10], color=\"r\")\n",
    "plt.show()\n",
    "\n",
    "In3 = []\n",
    "countIn3 = 0\n",
    "ID3 = []\n",
    "for i in range (len(D)):\n",
    "    if ((IwSl[i] > 1) and (IwSl[i] < 1.5)):\n",
    "        In3.append(IwPl)\n",
    "        countIn3 += 1\n",
    "        ID3.append(i)\n",
    "        \n",
    "print(\"Число потребителей, чей IwPl в отрезке [1;1.5]:\", countIn3)"
   ]
  },
  {
   "cell_type": "code",
   "execution_count": 26,
   "id": "3b422543",
   "metadata": {},
   "outputs": [
    {
     "data": {
      "text/plain": [
       "array([[1.       , 0.1085461],\n",
       "       [0.1085461, 1.       ]])"
      ]
     },
     "execution_count": 26,
     "metadata": {},
     "output_type": "execute_result"
    }
   ],
   "source": [
    "np.corrcoef(IwPl, IwSl)"
   ]
  },
  {
   "cell_type": "code",
   "execution_count": 27,
   "id": "7e78bba2",
   "metadata": {},
   "outputs": [
    {
     "data": {
      "text/plain": [
       "array([[ 1.        , -0.43182765],\n",
       "       [-0.43182765,  1.        ]])"
      ]
     },
     "execution_count": 27,
     "metadata": {},
     "output_type": "execute_result"
    }
   ],
   "source": [
    "np.corrcoef(IwPl, pp)"
   ]
  },
  {
   "cell_type": "code",
   "execution_count": 28,
   "id": "51bcf38b",
   "metadata": {},
   "outputs": [
    {
     "data": {
      "text/plain": [
       "array([[1.        , 0.61832647],\n",
       "       [0.61832647, 1.        ]])"
      ]
     },
     "execution_count": 28,
     "metadata": {},
     "output_type": "execute_result"
    }
   ],
   "source": [
    "np.corrcoef(IwSl, pp)"
   ]
  }
 ],
 "metadata": {
  "kernelspec": {
   "display_name": "Python 3 (ipykernel)",
   "language": "python",
   "name": "python3"
  },
  "language_info": {
   "codemirror_mode": {
    "name": "ipython",
    "version": 3
   },
   "file_extension": ".py",
   "mimetype": "text/x-python",
   "name": "python",
   "nbconvert_exporter": "python",
   "pygments_lexer": "ipython3",
   "version": "3.9.7"
  }
 },
 "nbformat": 4,
 "nbformat_minor": 5
}
