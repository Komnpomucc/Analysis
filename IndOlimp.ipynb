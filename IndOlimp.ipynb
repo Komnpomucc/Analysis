{
 "cells": [
  {
   "cell_type": "code",
   "execution_count": 19,
   "id": "65fde2b9",
   "metadata": {},
   "outputs": [],
   "source": [
    "import pandas as pd\n",
    "from tqdm import tqdm_notebook\n",
    "import numpy as np\n",
    "import matplotlib.pyplot as plt\n",
    "import seaborn as sns\n",
    "import pyreadstat as ps\n",
    "from sklearn import datasets\n",
    "import statistics as st\n",
    "from numpy import nanmedian, NaN"
   ]
  },
  {
   "cell_type": "code",
   "execution_count": 59,
   "id": "999c837d",
   "metadata": {},
   "outputs": [],
   "source": [
    "# Датасеты из домохозяйств с молодыми семьями\n",
    "\n",
    "Df1 = pd.read_spss(\"Molodie_semie1kvartal2020.sav\")\n",
    "Dff1 = pd.read_spss(\"Molodie_semie2kvartal2020.sav\")\n",
    "Dfff1 = pd.read_spss(\"Molodie_semie3kvartal2020.sav\")\n",
    "Dffff1 = pd.read_spss(\"Molodie_semie4kvartal2020.sav\")\n",
    "\n",
    "Df2 = pd.read_spss(\"Molodie_semie1kvartal2019.sav\")\n",
    "Dff2 = pd.read_spss(\"Molodie_semie2kvartal2019.sav\")\n",
    "Dfff2 = pd.read_spss(\"Molodie_semie3kvartal2019.sav\")\n",
    "Dffff2 = pd.read_spss(\"Molodie_semie4kvartal2019.sav\")\n",
    "\n",
    "Df3 = pd.read_spss(\"Molodie_semie1kvartal2018.sav\")\n",
    "Dff3 = pd.read_spss(\"Molodie_semie2kvartal2018.sav\")\n",
    "Dfff3 = pd.read_spss(\"Molodie_semie3kvartal2018.sav\")\n",
    "Dffff3 = pd.read_spss(\"Molodie_semie4kvartal2018.sav\")\n",
    "\n",
    "Df4 = pd.read_spss(\"Molodie_semie1kvartal2017.sav\")\n",
    "Dff4 = pd.read_spss(\"Molodie_semie2kvartal2017.sav\")\n",
    "Dfff4 = pd.read_spss(\"Molodie_semie3kvartal2017.sav\")\n",
    "Dffff4 = pd.read_spss(\"Molodie_semie4kvartal2017.sav\")"
   ]
  },
  {
   "cell_type": "code",
   "execution_count": 60,
   "id": "57942b89",
   "metadata": {},
   "outputs": [
    {
     "name": "stderr",
     "output_type": "stream",
     "text": [
      "C:\\Users\\vyand\\AppData\\Local\\Temp/ipykernel_8492/2085202993.py:35: RuntimeWarning: invalid value encountered in double_scalars\n",
      "  IndDff1.append(Dff1[\"alk\"][i]/Dff1[\"prod\"][i])\n",
      "C:\\Users\\vyand\\AppData\\Local\\Temp/ipykernel_8492/2085202993.py:48: RuntimeWarning: invalid value encountered in double_scalars\n",
      "  IndDfff1.append(Dfff1[\"alk\"][i]/Dfff1[\"prod\"][i])\n",
      "C:\\Users\\vyand\\AppData\\Local\\Temp/ipykernel_8492/2085202993.py:51: RuntimeWarning: invalid value encountered in double_scalars\n",
      "  IndDfff2.append(Dfff2[\"alk\"][i]/Dfff2[\"prod\"][i])\n",
      "C:\\Users\\vyand\\AppData\\Local\\Temp/ipykernel_8492/2085202993.py:54: RuntimeWarning: invalid value encountered in double_scalars\n",
      "  IndDfff3.append(Dfff3[\"alk\"][i]/Dfff3[\"prod\"][i])\n",
      "C:\\Users\\vyand\\AppData\\Local\\Temp/ipykernel_8492/2085202993.py:57: RuntimeWarning: invalid value encountered in double_scalars\n",
      "  IndDfff4.append(Dfff4[\"alk\"][i]/Dfff4[\"prod\"][i])\n",
      "C:\\Users\\vyand\\AppData\\Local\\Temp/ipykernel_8492/2085202993.py:61: RuntimeWarning: invalid value encountered in double_scalars\n",
      "  IndDffff1.append(Dffff1[\"alk\"][i]/Dffff1[\"prod\"][i])\n",
      "C:\\Users\\vyand\\AppData\\Local\\Temp/ipykernel_8492/2085202993.py:64: RuntimeWarning: invalid value encountered in double_scalars\n",
      "  IndDffff2.append(Dffff2[\"alk\"][i]/Dffff2[\"prod\"][i])\n",
      "C:\\Users\\vyand\\AppData\\Local\\Temp/ipykernel_8492/2085202993.py:67: RuntimeWarning: invalid value encountered in double_scalars\n",
      "  IndDffff3.append(Dffff3[\"alk\"][i]/Dffff3[\"prod\"][i])\n",
      "C:\\Users\\vyand\\AppData\\Local\\Temp/ipykernel_8492/2085202993.py:70: RuntimeWarning: invalid value encountered in double_scalars\n",
      "  IndDffff4.append(Dffff4[\"alk\"][i]/Dffff4[\"prod\"][i])\n"
     ]
    }
   ],
   "source": [
    "IndDf1 = []\n",
    "IndDff1 = []\n",
    "IndDfff1 = []\n",
    "IndDffff1 = []\n",
    "\n",
    "IndDf2 = []\n",
    "IndDff2 = []\n",
    "IndDfff2 = []\n",
    "IndDffff2 = []\n",
    "\n",
    "IndDf3 = []\n",
    "IndDff3 = []\n",
    "IndDfff3 = []\n",
    "IndDffff3 = []\n",
    "\n",
    "IndDf4 = []\n",
    "IndDff4 = []\n",
    "IndDfff4 = []\n",
    "IndDffff4 = []\n",
    "\n",
    "for i in range(len(Df1[\"doxodsn\"])):\n",
    "    IndDf1.append(Df1[\"alk\"][i]/Df1[\"prod\"][i])\n",
    "    \n",
    "for i in range(len(Df2[\"doxodsn\"])):\n",
    "    IndDf2.append(Df2[\"alk\"][i]/Df2[\"prod\"][i])\n",
    "    \n",
    "for i in range(len(Df3[\"doxodsn\"])):\n",
    "    IndDf3.append(Df3[\"alk\"][i]/Df3[\"prod\"][i])\n",
    "    \n",
    "for i in range(len(Df4[\"doxodsn\"])):\n",
    "    IndDf4.append(Df4[\"alk\"][i]/Df4[\"prod\"][i])\n",
    "    \n",
    "    \n",
    "for i in range(len(Dff1[\"doxodsn\"])):\n",
    "    IndDff1.append(Dff1[\"alk\"][i]/Dff1[\"prod\"][i])\n",
    "    \n",
    "for i in range(len(Dff2[\"doxodsn\"])):\n",
    "    IndDff2.append(Dff2[\"alk\"][i]/Dff2[\"prod\"][i])\n",
    "    \n",
    "for i in range(len(Dff3[\"doxodsn\"])):\n",
    "    IndDff3.append(Dff3[\"alk\"][i]/Dff3[\"prod\"][i])\n",
    "    \n",
    "for i in range(len(Dff4[\"doxodsn\"])):\n",
    "    IndDff4.append(Dff4[\"alk\"][i]/Dff4[\"prod\"][i])\n",
    "    \n",
    "    \n",
    "for i in range(len(Dfff1[\"doxodsn\"])):\n",
    "    IndDfff1.append(Dfff1[\"alk\"][i]/Dfff1[\"prod\"][i])\n",
    "    \n",
    "for i in range(len(Dfff2[\"doxodsn\"])):\n",
    "    IndDfff2.append(Dfff2[\"alk\"][i]/Dfff2[\"prod\"][i])\n",
    "    \n",
    "for i in range(len(Dfff3[\"doxodsn\"])):\n",
    "    IndDfff3.append(Dfff3[\"alk\"][i]/Dfff3[\"prod\"][i])\n",
    "    \n",
    "for i in range(len(Dfff4[\"doxodsn\"])):\n",
    "    IndDfff4.append(Dfff4[\"alk\"][i]/Dfff4[\"prod\"][i])\n",
    "    \n",
    "    \n",
    "for i in range(len(Dffff1[\"doxodsn\"])):\n",
    "    IndDffff1.append(Dffff1[\"alk\"][i]/Dffff1[\"prod\"][i])\n",
    "    \n",
    "for i in range(len(Dffff2[\"doxodsn\"])):\n",
    "    IndDffff2.append(Dffff2[\"alk\"][i]/Dffff2[\"prod\"][i])\n",
    "    \n",
    "for i in range(len(Dffff3[\"doxodsn\"])):\n",
    "    IndDffff3.append(Dffff3[\"alk\"][i]/Dffff3[\"prod\"][i])\n",
    "    \n",
    "for i in range(len(Dffff4[\"doxodsn\"])):\n",
    "    IndDffff4.append(Dffff4[\"alk\"][i]/Dffff4[\"prod\"][i])\n"
   ]
  },
  {
   "cell_type": "code",
   "execution_count": 62,
   "id": "a7054078",
   "metadata": {},
   "outputs": [
    {
     "name": "stdout",
     "output_type": "stream",
     "text": [
      "[ 0.0 ; 1.8854242204496012 ]\n",
      "[ 0.0 ; 9.090909090909092 ]\n",
      "[ 0.0 ; 4.400997483689183 ]\n",
      "[ 0.0 ; 4.400997483689183 ]\n",
      "\n",
      "[ 0.0 ; 2.9008695652173913 ]\n",
      "[ 0.0 ; 2.5 ]\n",
      "[ 0.0 ; 4.400997483689183 ]\n",
      "[ 0.0 ; 4.400997483689183 ]\n",
      "\n",
      "[ 0.0 ; 2.2478663795765286 ]\n",
      "[ 0.0 ; 1.6019417475728155 ]\n",
      "[ 0.0 ; 3.242115457603162 ]\n",
      "[ 0.0 ; 3.242115457603162 ]\n",
      "\n",
      "[ 0.0 ; 2.9008695652173913 ]\n",
      "[ 0.0 ; 9.090909090909092 ]\n",
      "[ 0.0 ; 4.400997483689183 ]\n",
      "[ 0.0 ; 4.400997483689183 ]\n",
      "\n"
     ]
    }
   ],
   "source": [
    "print('[', min(IndDf4), ';', max(IndDf4), ']') # Максимум и минимум значений индекса\n",
    "print('[', min(IndDff4), ';', max(IndDff4), ']')\n",
    "print('[', min(IndDfff4), ';', max(IndDfff4), ']')\n",
    "print('[', min(IndDffff4), ';', max(IndDffff4), ']\\n')\n",
    "\n",
    "print('[', min(IndDf3), ';', max(IndDf3), ']') # Максимум и минимум значений индекса\n",
    "print('[', min(IndDff3), ';', max(IndDff3), ']')\n",
    "print('[', min(IndDfff3), ';', max(IndDfff3), ']')\n",
    "print('[', min(IndDffff3), ';', max(IndDffff3), ']\\n')\n",
    "\n",
    "print('[', min(IndDf2), ';', max(IndDf2), ']') # Максимум и минимум значений индекса\n",
    "print('[', min(IndDff2), ';', max(IndDff2), ']')\n",
    "print('[', min(IndDfff2), ';', max(IndDfff2), ']')\n",
    "print('[', min(IndDffff2), ';', max(IndDffff2), ']\\n')\n",
    "\n",
    "print('[', min(IndDf1), ';', max(IndDf1), ']') # Максимум и минимум значений индекса\n",
    "print('[', min(IndDff1), ';', max(IndDff1), ']')\n",
    "print('[', min(IndDfff1), ';', max(IndDfff1), ']')\n",
    "print('[', min(IndDffff1), ';', max(IndDffff1), ']\\n')\n"
   ]
  },
  {
   "cell_type": "code",
   "execution_count": 13,
   "id": "25dcf7d8",
   "metadata": {},
   "outputs": [
    {
     "ename": "ValueError",
     "evalue": "'nan' is not in list",
     "output_type": "error",
     "traceback": [
      "\u001b[1;31m---------------------------------------------------------------------------\u001b[0m",
      "\u001b[1;31mValueError\u001b[0m                                Traceback (most recent call last)",
      "\u001b[1;32m~\\AppData\\Local\\Temp/ipykernel_8492/3801650029.py\u001b[0m in \u001b[0;36m<module>\u001b[1;34m\u001b[0m\n\u001b[0;32m      9\u001b[0m \u001b[1;31m#df4.loc[Ind4.index(max(Ind4))] # на еду - 28,59к р., на алкоголь - 48,88к р.\u001b[0m\u001b[1;33m\u001b[0m\u001b[1;33m\u001b[0m\u001b[0m\n\u001b[0;32m     10\u001b[0m \u001b[1;33m\u001b[0m\u001b[0m\n\u001b[1;32m---> 11\u001b[1;33m \u001b[0mIndDfff1\u001b[0m\u001b[1;33m.\u001b[0m\u001b[0mindex\u001b[0m\u001b[1;33m(\u001b[0m\u001b[1;34m'nan'\u001b[0m\u001b[1;33m)\u001b[0m\u001b[1;33m\u001b[0m\u001b[1;33m\u001b[0m\u001b[0m\n\u001b[0m",
      "\u001b[1;31mValueError\u001b[0m: 'nan' is not in list"
     ]
    }
   ],
   "source": [
    "# Анализ экстремальных значений\n",
    "\n",
    "# Ind = sorted(Ind, reverse=True)\n",
    "# Ind.index(46.875)\n",
    "\n",
    "#df1.loc[Ind1.index(max(Ind1))] # на еду - 8,7к р., на алкоголь - 17,8к р.\n",
    "#df2.loc[Ind2.index(max(Ind2))] # на еду - 208 р., на алкоголь - 9,75к р.\n",
    "#df3.loc[Ind3.index(max(Ind3))] # на еду - 41,2к р., на алкоголь - 155,95к р.\n",
    "#df4.loc[Ind4.index(max(Ind4))] # на еду - 28,59к р., на алкоголь - 48,88к р.\n",
    "\n",
    "IndDfff1.index('nan')"
   ]
  },
  {
   "cell_type": "code",
   "execution_count": 63,
   "id": "c2bbb828",
   "metadata": {},
   "outputs": [
    {
     "name": "stdout",
     "output_type": "stream",
     "text": [
      "2017 год:\n",
      "\n",
      "1 квартал:\n",
      "Mean = 0.04196358073265362 \n",
      "Median = 0.0 \n",
      "St. deviation = 0.006856403294236006 \n",
      "\n",
      "\n",
      "2 квартал:\n",
      "Mean = 0.0387367216447135 \n",
      "Median = 0.0 \n",
      "St. deviation = 0.010239315915513789 \n",
      "\n",
      "\n",
      "3 квартал:\n",
      "Mean = 0.0367431615176619 \n",
      "Median = 0.0 \n",
      "St. deviation = 0.007821510739200113 \n",
      "\n",
      "\n",
      "4 квартал:\n",
      "Mean = 0.03674135870320149 \n",
      "Median = 0.0 \n",
      "St. deviation = 0.007821193212235684 \n",
      "\n",
      "\n",
      "2018 год:\n",
      "\n",
      "1 квартал:\n",
      "Mean = 0.04200066680675362 \n",
      "Median = 0.0 \n",
      "St. deviation = 0.007784837017468938 \n",
      "\n",
      "\n",
      "2 квартал:\n",
      "Mean = 0.03877793011881654 \n",
      "Median = 0.0 \n",
      "St. deviation = 0.006976822110071185 \n",
      "\n",
      "\n",
      "3 квартал:\n",
      "Mean = 0.03673331660621898 \n",
      "Median = 0.0 \n",
      "St. deviation = 0.00756622675417106 \n",
      "\n",
      "\n",
      "4 квартал:\n",
      "Mean = 0.03673503804470915 \n",
      "Median = 0.0 \n",
      "St. deviation = 0.007565910123850717 \n",
      "\n",
      "\n",
      "2019 год:\n",
      "\n",
      "1 квартал:\n",
      "Mean = 0.04205195755241268 \n",
      "Median = 0.0 \n",
      "St. deviation = 0.0073631086639703355 \n",
      "\n",
      "\n",
      "2 квартал:\n",
      "Mean = 0.03744827137504221 \n",
      "Median = 0.0 \n",
      "St. deviation = 0.005837907332786423 \n",
      "\n",
      "\n",
      "3 квартал:\n",
      "Mean = 0.03542197572489912 \n",
      "Median = 0.0 \n",
      "St. deviation = 0.006831167760405417 \n",
      "\n",
      "\n",
      "4 квартал:\n",
      "Mean = 0.03542488063369235 \n",
      "Median = 0.0 \n",
      "St. deviation = 0.006830998190379897 \n",
      "\n",
      "\n",
      "2020 год:\n",
      "\n",
      "1 квартал:\n",
      "Mean = 0.04193241859496121 \n",
      "Median = 0.0 \n",
      "St. deviation = 0.0074487979633578475 \n",
      "\n",
      "\n",
      "2 квартал:\n",
      "Mean = 0.039388889276260886 \n",
      "Median = 0.0 \n",
      "St. deviation = 0.01094937412622063 \n",
      "\n",
      "\n",
      "3 квартал:\n",
      "Mean = 0.035534958715034766 \n",
      "Median = 0.0 \n",
      "St. deviation = 0.007270721311213626 \n",
      "\n",
      "\n",
      "4 квартал:\n",
      "Mean = 0.03553318241117498 \n",
      "Median = 0.0 \n",
      "St. deviation = 0.007270420983738433 \n",
      "\n",
      "\n"
     ]
    }
   ],
   "source": [
    "print(\"2017 год:\\n\")\n",
    "print(\"1 квартал:\\nMean =\", np.nanmean(IndDf4), \"\\nMedian =\", nanmedian(IndDf4), \"\\nSt. deviation =\", np.nanmean([(x - np.nanmean(IndDf4))**2 for x in IndDf4]), '\\n\\n')\n",
    "print(\"2 квартал:\\nMean =\", np.nanmean(IndDff4), \"\\nMedian =\", nanmedian(IndDff4), \"\\nSt. deviation =\", np.nanmean([(x - np.nanmean(IndDff4))**2 for x in IndDff4]), '\\n\\n')\n",
    "print(\"3 квартал:\\nMean =\", np.nanmean(IndDfff4), \"\\nMedian =\", nanmedian(IndDfff4), \"\\nSt. deviation =\", np.nanmean([(x - np.nanmean(IndDfff4))**2 for x in IndDfff4]), '\\n\\n')\n",
    "print(\"4 квартал:\\nMean =\", np.nanmean(IndDffff4), \"\\nMedian =\", nanmedian(IndDffff4), \"\\nSt. deviation =\", np.nanmean([(x - np.nanmean(IndDffff4))**2 for x in IndDffff4]), '\\n\\n')\n",
    "\n",
    "print(\"2018 год:\\n\")\n",
    "print(\"1 квартал:\\nMean =\", np.nanmean(IndDf3), \"\\nMedian =\", nanmedian(IndDf3), \"\\nSt. deviation =\", np.nanmean([(x - np.nanmean(IndDf3))**2 for x in IndDf3]), '\\n\\n')\n",
    "print(\"2 квартал:\\nMean =\", np.nanmean(IndDff3), \"\\nMedian =\", nanmedian(IndDff3), \"\\nSt. deviation =\", np.nanmean([(x - np.nanmean(IndDff3))**2 for x in IndDff3]), '\\n\\n')\n",
    "print(\"3 квартал:\\nMean =\", np.nanmean(IndDfff3), \"\\nMedian =\", nanmedian(IndDfff3), \"\\nSt. deviation =\", np.nanmean([(x - np.nanmean(IndDfff3))**2 for x in IndDfff3]), '\\n\\n')\n",
    "print(\"4 квартал:\\nMean =\", np.nanmean(IndDffff3), \"\\nMedian =\", nanmedian(IndDffff3), \"\\nSt. deviation =\", np.nanmean([(x - np.nanmean(IndDffff3))**2 for x in IndDffff3]), '\\n\\n')\n",
    "\n",
    "print(\"2019 год:\\n\")\n",
    "print(\"1 квартал:\\nMean =\", np.nanmean(IndDf2), \"\\nMedian =\", nanmedian(IndDf2), \"\\nSt. deviation =\", np.nanmean([(x - np.nanmean(IndDf2))**2 for x in IndDf2]), '\\n\\n')\n",
    "print(\"2 квартал:\\nMean =\", np.nanmean(IndDff2), \"\\nMedian =\", nanmedian(IndDff2), \"\\nSt. deviation =\", np.nanmean([(x - np.nanmean(IndDff2))**2 for x in IndDff2]), '\\n\\n')\n",
    "print(\"3 квартал:\\nMean =\", np.nanmean(IndDfff2), \"\\nMedian =\", nanmedian(IndDfff2), \"\\nSt. deviation =\", np.nanmean([(x - np.nanmean(IndDfff2))**2 for x in IndDfff2]), '\\n\\n')\n",
    "print(\"4 квартал:\\nMean =\", np.nanmean(IndDffff2), \"\\nMedian =\", nanmedian(IndDffff2), \"\\nSt. deviation =\", np.nanmean([(x - np.nanmean(IndDffff2))**2 for x in IndDffff2]), '\\n\\n')\n",
    "\n",
    "print(\"2020 год:\\n\")\n",
    "print(\"1 квартал:\\nMean =\", np.nanmean(IndDf1), \"\\nMedian =\", nanmedian(IndDf1), \"\\nSt. deviation =\", np.nanmean([(x - np.nanmean(IndDf1))**2 for x in IndDf1]), '\\n\\n')\n",
    "print(\"2 квартал:\\nMean =\", np.nanmean(IndDff1), \"\\nMedian =\", nanmedian(IndDff1), \"\\nSt. deviation =\", np.nanmean([(x - np.nanmean(IndDff1))**2 for x in IndDff1]), '\\n\\n')\n",
    "print(\"3 квартал:\\nMean =\", np.nanmean(IndDfff1), \"\\nMedian =\", nanmedian(IndDfff1), \"\\nSt. deviation =\", np.nanmean([(x - np.nanmean(IndDfff1))**2 for x in IndDfff1]), '\\n\\n')\n",
    "print(\"4 квартал:\\nMean =\", np.nanmean(IndDffff1), \"\\nMedian =\", nanmedian(IndDffff1), \"\\nSt. deviation =\", np.nanmean([(x - np.nanmean(IndDffff1))**2 for x in IndDffff1]), '\\n\\n')\n"
   ]
  },
  {
   "cell_type": "code",
   "execution_count": 64,
   "id": "d6eaddf2",
   "metadata": {},
   "outputs": [],
   "source": [
    "Means = [np.nanmean(IndDf4), np.nanmean(IndDff4), np.nanmean(IndDfff4), np.nanmean(IndDffff4), np.nanmean(IndDf3), np.nanmean(IndDff3), np.nanmean(IndDfff3), np.nanmean(IndDffff3), np.nanmean(IndDf2), np.nanmean(IndDff2), np.nanmean(IndDfff2), np.nanmean(IndDffff2), np.nanmean(IndDf1), np.nanmean(IndDff1), np.nanmean(IndDfff1), np.nanmean(IndDffff1)]\n",
    "Medians = [nanmedian(IndDf4), nanmedian(IndDff4), nanmedian(IndDfff4), nanmedian(IndDffff4), nanmedian(IndDf3), nanmedian(IndDff3), nanmedian(IndDfff3), nanmedian(IndDffff3), nanmedian(IndDf2), nanmedian(IndDff2), nanmedian(IndDfff2), nanmedian(IndDffff2), nanmedian(IndDf1), nanmedian(IndDff1), nanmedian(IndDfff1), nanmedian(IndDffff1)]\n",
    "Date = [\"1k 2017\",\"2k 2017\",\"3k 2017\", \"4k 2017\", \"1k 2018\", \"2k 2018\", \"3k 2018\", \"4k 2018\", \"1k 2019\", \"2k 2019\", \"3k 2019\", \"4k 2019\", \"1k 2020\", \"2k 2020\", \"3k 2020\", \"4k 2020\"]\n"
   ]
  },
  {
   "cell_type": "code",
   "execution_count": 65,
   "id": "4c38a86e",
   "metadata": {},
   "outputs": [
    {
     "data": {
      "image/png": "[encoded data removed]",
      "text/plain": [
       "<Figure size 1080x288 with 1 Axes>"
      ]
     },
     "metadata": {
      "needs_background": "light"
     },
     "output_type": "display_data"
    }
   ],
   "source": [
    "fig, ax1 = plt.subplots(figsize=(15, 4))\n",
    "ax1.plot(Date, Means, color='blue')\n",
    "ax1.set_title('График средних значений индекса') # подпись над рамкой\n",
    "ax1.set_xlabel('Временной промежуток') # подпись оси х\n",
    "ax1.set_ylabel('Среднее значение индекса')\n",
    "plt.show()"
   ]
  },
  {
   "cell_type": "code",
   "execution_count": 66,
   "id": "0820b305",
   "metadata": {},
   "outputs": [
    {
     "name": "stdout",
     "output_type": "stream",
     "text": [
      "Алкоголь в 2017 1 квартале потербялют 8292 из 20507 человек (40.434973423708975 процентов)\n",
      "\n",
      "Алкоголь в 2017 2 квартале потербялют 8072 из 20415 человек (39.53955424932648 процентов)\n",
      "\n",
      "Алкоголь в 2017 3 квартале потербялют 7693 из 20382 человек (37.74408792071436 процентов)\n",
      "\n",
      "Алкоголь в 2017 4 квартале потербялют 7693 из 20383 человек (37.74223617720649 процентов)\n",
      "\n",
      "Алкоголь в 2018 1 квартале потербялют 8110 из 20368 человек (39.817360565593084 процентов)\n",
      "\n",
      "Алкоголь в 2018 2 квартале потербялют 8044 из 20162 человек (39.89683563138578 процентов)\n",
      "\n",
      "Алкоголь в 2018 3 квартале потербялют 7562 из 20113 человек (37.59757370854671 процентов)\n",
      "\n",
      "Алкоголь в 2018 4 квартале потербялют 7563 из 20114 человек (37.60067614596798 процентов)\n",
      "\n",
      "Алкоголь в 2019 1 квартале потербялют 8151 из 20197 человек (40.35747883349012 процентов)\n",
      "\n",
      "Алкоголь в 2019 2 квартале потербялют 7894 из 20164 человек (39.14897837730609 процентов)\n",
      "\n",
      "Алкоголь в 2019 3 квартале потербялют 7433 из 20129 человек (36.926821998112175 процентов)\n",
      "\n",
      "Алкоголь в 2019 4 квартале потербялют 7434 из 20130 человек (36.929955290611026 процентов)\n",
      "\n",
      "Алкоголь в 2020 1 квартале потербялют 8103 из 20108 человек (40.29739407201114 процентов)\n",
      "\n",
      "Алкоголь в 2020 2 квартале потербялют 7922 из 20072 человек (39.46791550418494 процентов)\n",
      "\n",
      "Алкоголь в 2020 3 квартале потербялют 7358 из 20007 человек (36.77712800519818 процентов)\n",
      "\n",
      "Алкоголь в 2020 4 квартале потербялют 7358 из 20008 человек (36.77528988404638 процентов)\n",
      "\n"
     ]
    }
   ],
   "source": [
    "IIDf1=[]\n",
    "IIDff1=[]\n",
    "IIDfff1=[]\n",
    "IIDffff1=[]\n",
    "\n",
    "IIDf2=[]\n",
    "IIDff2=[]\n",
    "IIDfff2=[]\n",
    "IIDffff2=[]\n",
    "\n",
    "IIDf3=[]\n",
    "IIDff3=[]\n",
    "IIDfff3=[]\n",
    "IIDffff3=[]\n",
    "\n",
    "IIDf4=[]\n",
    "IIDff4=[]\n",
    "IIDfff4=[]\n",
    "IIDffff4=[]\n",
    "\n",
    "for i in range(len(IndDf1)):\n",
    "    if IndDf1[i]>0:\n",
    "        IIDf1.append(IndDf1[i])\n",
    "        \n",
    "for i in range(len(IndDff1)):\n",
    "    if IndDff1[i]>0:\n",
    "        IIDff1.append(IndDff1[i])\n",
    "        \n",
    "for i in range(len(IndDfff1)):\n",
    "    if IndDfff1[i]>0:\n",
    "        IIDfff1.append(IndDfff1[i])\n",
    "\n",
    "for i in range(len(IndDffff1)):\n",
    "    if IndDffff1[i]>0:\n",
    "        IIDffff1.append(IndDffff1[i])\n",
    "        \n",
    "\n",
    "for i in range(len(IndDf2)):\n",
    "    if IndDf2[i]>0:\n",
    "        IIDf2.append(IndDf2[i])\n",
    "        \n",
    "for i in range(len(IndDff2)):\n",
    "    if IndDff2[i]>0:\n",
    "        IIDff2.append(IndDff2[i])\n",
    "        \n",
    "for i in range(len(IndDfff2)):\n",
    "    if IndDfff2[i]>0:\n",
    "        IIDfff2.append(IndDfff2[i])\n",
    "\n",
    "for i in range(len(IndDffff2)):\n",
    "    if IndDffff2[i]>0:\n",
    "        IIDffff2.append(IndDffff2[i])\n",
    "  \n",
    "\n",
    "for i in range(len(IndDf3)):\n",
    "    if IndDf3[i]>0:\n",
    "        IIDf3.append(IndDf3[i])\n",
    "        \n",
    "for i in range(len(IndDff3)):\n",
    "    if IndDff3[i]>0:\n",
    "        IIDff3.append(IndDff3[i])\n",
    "        \n",
    "for i in range(len(IndDfff3)):\n",
    "    if IndDfff3[i]>0:\n",
    "        IIDfff3.append(IndDfff3[i])\n",
    "\n",
    "for i in range(len(IndDffff3)):\n",
    "    if IndDffff3[i]>0:\n",
    "        IIDffff3.append(IndDffff3[i])\n",
    "        \n",
    "        \n",
    "for i in range(len(IndDf4)):\n",
    "    if IndDf4[i]>0:\n",
    "        IIDf4.append(IndDf4[i])\n",
    "        \n",
    "for i in range(len(IndDff4)):\n",
    "    if IndDff4[i]>0:\n",
    "        IIDff4.append(IndDff4[i])\n",
    "        \n",
    "for i in range(len(IndDfff4)):\n",
    "    if IndDfff4[i]>0:\n",
    "        IIDfff4.append(IndDfff4[i])\n",
    "\n",
    "for i in range(len(IndDffff4)):\n",
    "    if IndDffff4[i]>0:\n",
    "        IIDffff4.append(IndDffff4[i])\n",
    "        \n",
    "\n",
    "      \n",
    "\n",
    "print(\"Алкоголь в 2017 1 квартале потербялют \", len(IIDf4), \" из \", len(IndDf4), \" человек \", '(', len(IIDf4)*100/len(IndDf4), \" процентов)\\n\", sep='')\n",
    "print(\"Алкоголь в 2017 2 квартале потербялют \", len(IIDff4), \" из \", len(IndDff4), \" человек \", '(', len(IIDff4)*100/len(IndDff4), \" процентов)\\n\", sep='')\n",
    "print(\"Алкоголь в 2017 3 квартале потербялют \", len(IIDfff4), \" из \", len(IndDfff4), \" человек \", '(', len(IIDfff4)*100/len(IndDfff4), \" процентов)\\n\", sep='')\n",
    "print(\"Алкоголь в 2017 4 квартале потербялют \", len(IIDffff4), \" из \", len(IndDffff4), \" человек \", '(', len(IIDffff4)*100/len(IndDffff4), \" процентов)\\n\", sep='')\n",
    "\n",
    "print(\"Алкоголь в 2018 1 квартале потербялют \", len(IIDf3), \" из \", len(IndDf3), \" человек \", '(', len(IIDf3)*100/len(IndDf3), \" процентов)\\n\", sep='')\n",
    "print(\"Алкоголь в 2018 2 квартале потербялют \", len(IIDff3), \" из \", len(IndDff3), \" человек \", '(', len(IIDff3)*100/len(IndDff3), \" процентов)\\n\", sep='')\n",
    "print(\"Алкоголь в 2018 3 квартале потербялют \", len(IIDfff3), \" из \", len(IndDfff3), \" человек \", '(', len(IIDfff3)*100/len(IndDfff3), \" процентов)\\n\", sep='')\n",
    "print(\"Алкоголь в 2018 4 квартале потербялют \", len(IIDffff3), \" из \", len(IndDffff3), \" человек \", '(', len(IIDffff3)*100/len(IndDffff3), \" процентов)\\n\", sep='')\n",
    "\n",
    "print(\"Алкоголь в 2019 1 квартале потербялют \", len(IIDf2), \" из \", len(IndDf2), \" человек \", '(', len(IIDf2)*100/len(IndDf2), \" процентов)\\n\", sep='')\n",
    "print(\"Алкоголь в 2019 2 квартале потербялют \", len(IIDff2), \" из \", len(IndDff2), \" человек \", '(', len(IIDff2)*100/len(IndDff2), \" процентов)\\n\", sep='')\n",
    "print(\"Алкоголь в 2019 3 квартале потербялют \", len(IIDfff2), \" из \", len(IndDfff2), \" человек \", '(', len(IIDfff2)*100/len(IndDfff2), \" процентов)\\n\", sep='')\n",
    "print(\"Алкоголь в 2019 4 квартале потербялют \", len(IIDffff2), \" из \", len(IndDffff2), \" человек \", '(', len(IIDffff2)*100/len(IndDffff2), \" процентов)\\n\", sep='')\n",
    "\n",
    "print(\"Алкоголь в 2020 1 квартале потербялют \", len(IIDf1), \" из \", len(IndDf1), \" человек \", '(', len(IIDf1)*100/len(IndDf1), \" процентов)\\n\", sep='')\n",
    "print(\"Алкоголь в 2020 2 квартале потербялют \", len(IIDff1), \" из \", len(IndDff1), \" человек \", '(', len(IIDff1)*100/len(IndDff1), \" процентов)\\n\", sep='')\n",
    "print(\"Алкоголь в 2020 3 квартале потербялют \", len(IIDfff1), \" из \", len(IndDfff1), \" человек \", '(', len(IIDfff1)*100/len(IndDfff1), \" процентов)\\n\", sep='')\n",
    "print(\"Алкоголь в 2020 4 квартале потербялют \", len(IIDffff1), \" из \", len(IndDffff1), \" человек \", '(', len(IIDffff1)*100/len(IndDffff1), \" процентов)\\n\", sep='')"
   ]
  },
  {
   "cell_type": "code",
   "execution_count": 67,
   "id": "1853eeca",
   "metadata": {},
   "outputs": [],
   "source": [
    "non0Means = [np.nanmean(IIDf4), np.nanmean(IIDff4), np.nanmean(IIDfff4), np.nanmean(IIDffff4), np.nanmean(IIDf3), np.nanmean(IIDff3), np.nanmean(IIDfff3), np.nanmean(IIDffff3), np.nanmean(IIDf2), np.nanmean(IIDff2), np.nanmean(IIDfff2), np.nanmean(IIDffff2), np.nanmean(IIDf1), np.nanmean(IIDff1), np.nanmean(IIDfff1), np.nanmean(IIDffff1)]"
   ]
  },
  {
   "cell_type": "code",
   "execution_count": 68,
   "id": "fd1ffd7d",
   "metadata": {},
   "outputs": [
    {
     "data": {
      "image/png": "[encoded data removed]",
      "text/plain": [
       "<Figure size 1080x288 with 1 Axes>"
      ]
     },
     "metadata": {
      "needs_background": "light"
     },
     "output_type": "display_data"
    }
   ],
   "source": [
    "fig, ax1 = plt.subplots(figsize=(15, 4))\n",
    "ax1.plot(Date, non0Means, color='red')\n",
    "ax1.set_title('График средних значений индекса без нулевых элементов') # подпись над рамкой\n",
    "ax1.set_xlabel('Временной промежуток') # подпись оси х\n",
    "ax1.set_ylabel('Среднее значение индекса')\n",
    "plt.show()"
   ]
  },
  {
   "cell_type": "code",
   "execution_count": 137,
   "id": "2ac43f85",
   "metadata": {},
   "outputs": [],
   "source": [
    "I1=[]\n",
    "I2=[]\n",
    "I3=[]\n",
    "I4=[]\n",
    "\n",
    "for i in range(len(Ind1)):\n",
    "    if Ind1[i]>0:\n",
    "      I1.append(Ind1[i]) \n",
    "\n",
    "for i in range(len(Ind2)):\n",
    "    if Ind2[i]>0:\n",
    "      I2.append(Ind2[i]) \n",
    "\n",
    "for i in range(len(Ind3)):\n",
    "    if Ind3[i]>0:\n",
    "      I3.append(Ind3[i]) \n",
    "\n",
    "for i in range(len(Ind4)):\n",
    "    if Ind4[i]>0:\n",
    "      I4.append(Ind4[i]) \n",
    "    \n",
    "# Ind2=Ind[I[len(I)-1]:51265]\n",
    "# Ind1=Ind[0:I[len(I)-1]]\n",
    "\n",
    "I1 = sorted(I1, reverse=True)\n",
    "I2 = sorted(I2, reverse=True)\n",
    "I3 = sorted(I3, reverse=True)\n",
    "I4 = sorted(I4, reverse=True)\n",
    "\n",
    "# I1 = I1[5:len(I1)] # значения индексов без 5 максимальных значений\n",
    "# I2 = I1[5:len(I2)]\n",
    "# I3 = I1[5:len(I3)]\n",
    "# I4 = I1[5:len(I4)]"
   ]
  },
  {
   "cell_type": "code",
   "execution_count": 143,
   "id": "f15fb6a0",
   "metadata": {},
   "outputs": [
    {
     "data": {
      "image/png": "[encoded data removed]",
      "text/plain": [
       "<Figure size 1080x288 with 2 Axes>"
      ]
     },
     "metadata": {
      "needs_background": "light"
     },
     "output_type": "display_data"
    }
   ],
   "source": [
    "#plotInd1 = sns.distplot(Ind1)\n",
    "#plotI1 = sns.distplot(I1)\n",
    "#fig = plot.get_figure()\n",
    "\n",
    "fig, (ax1, ax2) = plt.subplots(1, 2, figsize=(15, 4))\n",
    "ax1.hist(Ind1, 200, color='blue')\n",
    "ax2.hist(I1, 200, color='green')\n",
    "plt.show()"
   ]
  },
  {
   "cell_type": "code",
   "execution_count": 144,
   "id": "b65e2f00",
   "metadata": {},
   "outputs": [
    {
     "data": {
      "image/png": "[encoded data removed]",
      "text/plain": [
       "<Figure size 1080x288 with 2 Axes>"
      ]
     },
     "metadata": {
      "needs_background": "light"
     },
     "output_type": "display_data"
    }
   ],
   "source": [
    "# plotInd2 = sns.distplot(Ind2)\n",
    "# plotI2 = sns.distplot(I2)\n",
    "# fig = plot.get_figure()\n",
    "\n",
    "fig, (ax1, ax2) = plt.subplots(1, 2, figsize=(15, 4))\n",
    "ax1.hist(Ind2, 200, color='blue')\n",
    "ax2.hist(I2, 200, color='green')\n",
    "plt.show()"
   ]
  },
  {
   "cell_type": "code",
   "execution_count": 145,
   "id": "73a68640",
   "metadata": {},
   "outputs": [
    {
     "data": {
      "image/png": "[encoded data removed]",
      "text/plain": [
       "<Figure size 1080x288 with 2 Axes>"
      ]
     },
     "metadata": {
      "needs_background": "light"
     },
     "output_type": "display_data"
    }
   ],
   "source": [
    "# plotInd3 = sns.distplot(Ind3)\n",
    "# plotI3 = sns.distplot(I3)\n",
    "# fig = plot.get_figure()\n",
    "\n",
    "fig, (ax1, ax2) = plt.subplots(1, 2, figsize=(15, 4))\n",
    "ax1.hist(Ind3, 200, color='blue')\n",
    "ax2.hist(I3, 200, color='green')\n",
    "plt.show()"
   ]
  },
  {
   "cell_type": "code",
   "execution_count": 146,
   "id": "69c6bcf7",
   "metadata": {},
   "outputs": [
    {
     "data": {
      "image/png": "[encoded data removed]",
      "text/plain": [
       "<Figure size 1080x288 with 2 Axes>"
      ]
     },
     "metadata": {
      "needs_background": "light"
     },
     "output_type": "display_data"
    }
   ],
   "source": [
    "# plotInd4 = sns.distplot(Ind4)\n",
    "# plotI4 = sns.distplot(I4)\n",
    "# fig = plot.get_figure()\n",
    "\n",
    "fig, (ax1, ax2) = plt.subplots(1, 2,figsize=(15, 4))\n",
    "ax1.hist(Ind4, 200, color='blue')\n",
    "ax2.hist(I4, 200, color='green')\n",
    "plt.show()"
   ]
  },
  {
   "cell_type": "code",
   "execution_count": null,
   "id": "236b4a7b",
   "metadata": {},
   "outputs": [],
   "source": []
  }
 ],
 "metadata": {
  "kernelspec": {
   "display_name": "Python 3 (ipykernel)",
   "language": "python",
   "name": "python3"
  },
  "language_info": {
   "codemirror_mode": {
    "name": "ipython",
    "version": 3
   },
   "file_extension": ".py",
   "mimetype": "text/x-python",
   "name": "python",
   "nbconvert_exporter": "python",
   "pygments_lexer": "ipython3",
   "version": "3.9.7"
  }
 },
 "nbformat": 4,
 "nbformat_minor": 5
}
